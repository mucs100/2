{
  "nbformat": 4,
  "nbformat_minor": 0,
  "metadata": {
    "colab": {
      "provenance": []
    },
    "kernelspec": {
      "name": "python3",
      "display_name": "Python 3"
    },
    "language_info": {
      "name": "python"
    }
  },
  "cells": [
    {
      "cell_type": "code",
      "execution_count": null,
      "metadata": {
        "id": "pFQ5j74rRs7D"
      },
      "outputs": [],
      "source": [
        " #Reflection\n",
        "\n",
        " import numpy as np\n",
        " import cv2 as cv\n",
        " img = cv.imread('pikachu.png',0)\n",
        " rows, cols = img.shape\n",
        " M=np.float32([[1, 0, 0],[0,-1, rows],[0, 0, 1]])\n",
        " reflected_img = cv.warpPerspective(img, M,(int(cols),int(rows)))\n",
        " cv.imshow('img', reflected_img)\n",
        " cv.imwrite('reflection_out.jpg', reflected_img)\n",
        " cv.waitKey(0)\n",
        " cv.destroyAllWindows("
      ]
    },
    {
      "cell_type": "code",
      "source": [
        "#rotation\n",
        "import numpy as np\n",
        "import cv2 as cv\n",
        "img = cv2.imread('C:/Users/VANNUR/Downloads/ds.jpeg',0)\n",
        "rows, cols = img.shape\n",
        "M = np.float32([[1, 0, 0], [0, -1, rows], [0, 0, 1]])\n",
        "img_rotation = cv.warpAffine(img,cv.getRotationMatrix2D((cols/2, rows/2),30, 0.6),(cols, rows))\n",
        "cv.imshow('img', img_rotation)\n",
        "cv.imwrite('rotation_out.jpg', img_rotation)\n",
        "cv.waitKey(0)\n",
        "cv.destroyAllWindows()\n"
      ],
      "metadata": {
        "id": "k9kiMb5fTXWy"
      },
      "execution_count": null,
      "outputs": []
    },
    {
      "cell_type": "code",
      "source": [
        "# Import the necessary libraries\n",
        "#resize\n",
        "\n",
        "import cv2\n",
        "import numpy as np\n",
        "import matplotlib.pyplot as plt\n",
        "\n",
        "image =cv2.imread('F:/PHD WORK/Casia dataset/casia iris/CASIA-Iris-Interval/001/L/S1001L01.jpg')\n",
        "image_rgb = cv2.cvtColor(image, cv2.COLOR_BGR2RGB)\n",
        "\n",
        "scale_factor_1 = 3.0\n",
        "scale_factor_2 = 1/3.0\n",
        "height, width = image_rgb.shape[:2]\n",
        "new_height = int(height * scale_factor_1)\n",
        "new_width = int(width * scale_factor_1)\n",
        "zoomed_image = cv2.resize(src =image_rgb,\n",
        "                          dsize=(new_width, new_height),\n",
        "                          interpolation=cv2.INTER_CUBIC)\n",
        "new_height1 = int(height * scale_factor_2)\n",
        "new_width1 = int(width * scale_factor_2)\n",
        "scaled_image = cv2.resize(src= image_rgb,\n",
        "                          dsize =(new_width1, new_height1),\n",
        "                          interpolation=cv2.INTER_AREA)\n",
        "fig, axs = plt.subplots(1, 3, figsize=(10, 4))\n",
        "axs[0].imshow(image_rgb)\n",
        "axs[0].set_title('Original Image Shape:'+str(image_rgb.shape))\n",
        "axs[1].imshow(zoomed_image)\n",
        "axs[1].set_title('Zoomed Image Shape:'+str(zoomed_image.shape))\n",
        "axs[2].imshow(scaled_image)\n",
        "axs[2].set_title('Scaled Image Shape:'+str(scaled_image.shape))\n",
        "for ax in axs:\n",
        "    ax.set_xticks([])\n",
        "    ax.set_yticks([])\n",
        "plt.tight_layout()\n",
        "plt.show()\n"
      ],
      "metadata": {
        "id": "lgdiMjWUZrEP"
      },
      "execution_count": null,
      "outputs": []
    },
    {
      "cell_type": "code",
      "source": [
        "#sharing X-Axis\n",
        "import numpy as np\n",
        "import cv2 as cv\n",
        "img = cv2.imread('C:/Users/VANNUR/Downloads/ds.jpeg',0)\n",
        "rows, cols = img.shape\n",
        "M = np.float32([[1, 0.5, 0], [0, 1, 0], [0, 0, 1]])\n",
        "sheared_img = cv.warpPerspective(img, M, (int(cols*1.5), int(rows*1.5)))\n",
        "cv.imshow('img', sheared_img)\n",
        "cv.waitKey(0)\n",
        "cv.destroyAllWindows()\n"
      ],
      "metadata": {
        "id": "9ACETJW2aoD8"
      },
      "execution_count": null,
      "outputs": []
    },
    {
      "cell_type": "code",
      "source": [
        "#sharing Y-axis\n",
        "import numpy as np\n",
        "import cv2 as cv\n",
        "img = cv2.imread('C:/Users/VANNUR/Downloads/ds.jpeg',0)\n",
        "rows, cols = img.shape\n",
        "M = np.float32([[1, 0, 0], [0.5, 1, 0], [0, 0, 1]])\n",
        "sheared_img = cv.warpPerspective(img, M, (int(cols*1.5), int(rows*1.5)))\n",
        "cv.imshow('sheared_y-axis_out.jpg', sheared_img)\n",
        "cv.waitKey(0)\n",
        "cv.destroyAllWindows()\n"
      ],
      "metadata": {
        "id": "70ESMV5wauHT"
      },
      "execution_count": null,
      "outputs": []
    },
    {
      "cell_type": "code",
      "source": [
        "#cropping\n",
        "import numpy as np\n",
        "import cv2 as cv\n",
        "img = cv2.imread('C:/Users/VANNUR/Downloads/ds.jpeg',0)\n",
        "cropped_img = img[100:300, 100:300]\n",
        "cv.imwrite('cropped_out.jpg', cropped_img)\n",
        "cv.waitKey(0)\n",
        "cv.destroyAllWindows()\n"
      ],
      "metadata": {
        "id": "6bLhMyIia57I"
      },
      "execution_count": null,
      "outputs": []
    },
    {
      "cell_type": "code",
      "source": [
        "#bluring\n",
        "import cv2\n",
        "import matplotlib.pyplot as plt\n",
        "import numpy as np\n",
        "\n",
        "# Load the image\n",
        "image = cv2.imread('GFG.jpeg')\n",
        "\n",
        "#Plot the original image\n",
        "plt.subplot(1, 2, 1)\n",
        "plt.title(\"Original\")\n",
        "plt.imshow(image)\n",
        "\n",
        "# Remove noise using a Gaussian filter\n",
        "filtered_image2 = cv2.GaussianBlur(image, (7, 7), 0)\n",
        "\n",
        "#Save the image\n",
        "cv2.imwrite('Gaussian Blur.jpg', filtered_image2)\n",
        "\n",
        "#Plot the blured image\n",
        "plt.subplot(1, 2, 2)\n",
        "plt.title(\"Gaussian Blur\")\n",
        "plt.imshow(filtered_image2)\n",
        "plt.show()"
      ],
      "metadata": {
        "id": "FkInDMAib5_9"
      },
      "execution_count": null,
      "outputs": []
    },
    {
      "cell_type": "markdown",
      "source": [
        "without build-in function"
      ],
      "metadata": {
        "id": "MD4HT0BfcA_n"
      }
    },
    {
      "cell_type": "code",
      "source": [
        "#Transform(Invert)\n",
        "\n",
        "import matplotlib.pyplot as plt\n",
        "import cv2\n",
        "img = cv2.imread(\"google.jpg\")\n",
        "gray_image = cv2.cvtColor(img, cv2.COLOR_BGR2GRAY)\n",
        "plt.subplot(1,2,1)\n",
        "plt.title(\"Original_Image\")\n",
        "plt.imshow(gray_image,cmap='gray')\n",
        "\n",
        "rows,cols = gray_image.shape\n",
        "for i in range(rows):\n",
        "    for j in range(cols):\n",
        "        gray_image[i,j] = 255-gray_image[i,j]\n",
        "plt.subplot(1,2,2)\n",
        "plt.title('Negation Image')\n",
        "plt.imshow(gray_image,cmap='gray')"
      ],
      "metadata": {
        "id": "r2dlF880cSuq"
      },
      "execution_count": null,
      "outputs": []
    },
    {
      "cell_type": "code",
      "source": [
        "#Rotation\n",
        "\n",
        " import numpy as np\n",
        " import cv2 as cv\n",
        "\n",
        " img = cv.imread('pikachu.png', 0)\n",
        "\n",
        " rows, cols = img.shape\n",
        "\n",
        " angle = 30\n",
        " scale = 0.6\n",
        "\n",
        " theta = np.radians(angle)\n",
        "\n",
        " rotation_matrix = np.array([\n",
        "  [np.cos(theta) * scale,-np.sin(theta) * scale, 0],\n",
        "  [np.sin(theta) * scale, np.cos(theta) * scale, 0],\n",
        "  [0, 0, 1]\n",
        " ])\n",
        "\n",
        " translation_matrix = np.array([\n",
        "  [1, 0,-cols / 2],\n",
        "  [0, 1,-rows / 2],\n",
        "  [0, 0, 1]\n",
        " ])\n",
        "\n",
        " inv_translation_matrix = np.array([\n",
        "  [1, 0, cols / 2],\n",
        "  [0, 1, rows / 2],\n",
        "  [0, 0, 1]\n",
        " ])\n",
        "\n",
        " transformation_matrix = np.dot(inv_translation_matrix, np.dot(rotation_matrix,translation_matrix))\n",
        "\n",
        " img_rotation = np.zeros_like(img)\n",
        " for y in range(rows):\n",
        "  for x in range(cols):\n",
        "    new_x, new_y, _ = np.dot(transformation_matrix, [x, y, 1])\n",
        "     new_x, new_y = int(new_x), int(new_y)\n",
        "    if 0 <= new_x < cols and 0 <= new_y < rows:\n",
        "    img_rotation[new_y, new_x] = img[y, x]\n",
        "\n",
        " cv.imshow('img', img_rotation)\n",
        " cv.imwrite('rotation_out.jpg', img_rotation)\n",
        " cv.waitKey(0)\n",
        " cv.destroyAllWindows("
      ],
      "metadata": {
        "id": "aGQlXNhfGbnS"
      },
      "execution_count": null,
      "outputs": []
    },
    {
      "cell_type": "code",
      "source": [
        " #Scaling\n",
        " import cv2\n",
        " import matplotlib.pyplot as plt\n",
        " import numpy as np\n",
        "\n",
        " img = cv2.imread('pikachu.png', 0)\n",
        "\n",
        " scale_factor = 1.5\n",
        "\n",
        " new_height = int(img.shape[0] * scale_factor)\n",
        " new_width = int(img.shape[1] * scale_factor)\n",
        "\n",
        " img_enlarged = np.zeros((new_height, new_width), dtype=np.uint8)\n",
        "\n",
        " scale_y = img.shape[0] / new_height\n",
        " scale_x = img.shape[1] / new_width\n",
        "\n",
        " for y in range(new_height):\n",
        "  for x in range(new_width):\n",
        "\n",
        "    original_x = int(x * scale_x)\n",
        "    original_y = int(y * scale_y)\n",
        "\n",
        "    original_x = max(0, min(original_x, img.shape[1]- 1))\n",
        "    original_y = max(0, min(original_y, img.shape[0]- 1))\n",
        "\n",
        "\n",
        "    img_enlarged[y, x] = img[original_y, original_x]\n",
        "\n",
        " plt.subplot(1, 2, 1)\n",
        " plt.title('Original Image')\n",
        " plt.imshow(img, cmap='gray')\n",
        " plt.subplot(1, 2, 2)\n",
        " plt.title('Enlarged Image')\n",
        " plt.imshow(img_enlarged, cmap='gray')\n",
        " plt.show()\n"
      ],
      "metadata": {
        "id": "2VBhiTC-Gbvo"
      },
      "execution_count": null,
      "outputs": []
    },
    {
      "cell_type": "code",
      "source": [
        " #Reflection\n",
        " import cv2 as cv\n",
        "\n",
        " img = cv.imread('pikachu.png', 0)\n",
        " rows, cols = img.shape\n",
        "\n",
        " reflected_img = np.zeros_like(img)\n",
        "\n",
        "M=np.float32([[1, 0, 0],\n",
        "  [0,-1, rows],\n",
        "  [0, 0, 1]])\n",
        "\n",
        " for y in range(rows):\n",
        "   for x in range(cols):\n",
        "\n",
        "      new_x, new_y, _ = np.dot(M, [x, y, 1])\n",
        "\n",
        "      new_x = int(np.clip(new_x, 0, cols- 1))\n",
        "      new_y = int(np.clip(new_y, 0, rows- 1))\n",
        "\n",
        "      reflected_img[new_y, new_x] = img[y, x]\n",
        "\n",
        " cv.imshow('img', reflected_img)\n",
        " cv.imwrite('reflection_out.jpg', reflected_img)\n",
        " cv.waitKey(0)\n",
        " cv.destroyAllWindows()\n"
      ],
      "metadata": {
        "id": "qc1LfGMGGby2"
      },
      "execution_count": null,
      "outputs": []
    },
    {
      "cell_type": "code",
      "source": [
        "# Cropping\n",
        " import cv2 as cv\n",
        " import matplotlib.pyplot as plt\n",
        "\n",
        " img = cv.imread('pikachu.png', 0)\n",
        "\n",
        " top_left_x, top_left_y = 100, 100\n",
        " bottom_right_x, bottom_right_y = 300, 300\n",
        "\n",
        " cropped_img = img[top_left_y:bottom_right_y, top_left_x:bottom_right_x]\n",
        " s\n",
        " plt.subplot(1, 2, 1)\n",
        " plt.title('Original Image')\n",
        " plt.imshow(img, cmap='gray')\n",
        " plt.subplot(1, 2, 2)\n",
        " plt.title('Cropped Image')\n",
        " plt.imshow(cropped_img, cmap='gray')\n",
        " plt.show()\n"
      ],
      "metadata": {
        "id": "Vp1GLddsGb28"
      },
      "execution_count": null,
      "outputs": []
    },
    {
      "cell_type": "code",
      "source": [
        " Blurring\n",
        " import cv2\n",
        " import numpy as np\n",
        " import matplotlib.pyplot as plt\n",
        " def gaussian_kernel(size, sigma):\n",
        "  epsilon = 1e-5\n",
        "  kernel = np.fromfunction(lambda x, y: (1/(2*np.pi*(sigma**2 + epsilon))) *\n",
        "    np.exp(-((x-size//2)**2 + (y-size//2)**2)/(2*(sigma**2 + epsilon))), (size, size))\n",
        "  return kernel / np.sum(kernel)\n",
        "\n",
        " def custom_gaussian_blur(image, kernel_size, sigma):\n",
        "  kernel = gaussian_kernel(kernel_size, sigma)\n",
        "  blurred_image = cv2.filter2D(image,-1, kernel)\n",
        "   return blurred_image\n",
        "\n",
        " image = cv2.imread('xyz.jpg', 0)\n",
        "\n",
        " blurred = custom_gaussian_blur(image, 3, 0)\n",
        "\n",
        " fig, axs = plt.subplots(1, 2, figsize=(7, 4))\n",
        "\n",
        " axs[0].imshow(image, cmap='gray')\n",
        " axs[0].set_title('Original Image')\n",
        "\n",
        " axs[1].imshow(blurred, cmap='gray')\n",
        " axs[1].set_title('Blurred Image')\n",
        "\n",
        " for ax in axs:\n",
        "   ax.set_xticks([])\n",
        "  ax.set_yticks([])\n",
        "\n",
        " plt.tight_layout()\n",
        " plt.show()\n"
      ],
      "metadata": {
        "id": "wWMWCNVeGb67"
      },
      "execution_count": null,
      "outputs": []
    },
    {
      "cell_type": "code",
      "source": [],
      "metadata": {
        "id": "EHoZceKsGb_z"
      },
      "execution_count": null,
      "outputs": []
    },
    {
      "cell_type": "markdown",
      "source": [
        "Histogram Equalizer"
      ],
      "metadata": {
        "id": "bAaDFC3pfw1T"
      }
    },
    {
      "cell_type": "code",
      "source": [
        "\n",
        "import cv2\n",
        "import matplotlib.pyplot as plt\n",
        "import numpy as np\n",
        "\n",
        "image = cv2.imread('cpp.jpeg')\n",
        "\n",
        "plt.subplot(1, 2, 1)\n",
        "plt.title(\"Original\")\n",
        "plt.imshow(image)\n",
        "\n",
        "gray_image = cv2.cvtColor(image, cv2.COLOR_BGR2GRAY)\n",
        "\n",
        "equalized_image = cv2.equalizeHist(gray_image)\n",
        "\n",
        "cv2.imwrite('equalized.jpg', equalized_image)\n",
        "\n",
        "plt.subplot(1, 2, 2)\n",
        "plt.title(\"equalized\")\n",
        "plt.imshow(equalized_image)\n",
        "plt.show()\n"
      ],
      "metadata": {
        "id": "8aqp0lAff0YE"
      },
      "execution_count": null,
      "outputs": []
    },
    {
      "cell_type": "markdown",
      "source": [
        "Edge detection image"
      ],
      "metadata": {
        "id": "mAnf8Sk_hYJh"
      }
    },
    {
      "cell_type": "code",
      "source": [
        "# Import the necessary Libraries\n",
        "import cv2\n",
        "import numpy as np\n",
        "import matplotlib.pyplot as plt\n",
        "\n",
        "img = cv2.imread('C:/Users/VANNUR/Documents/imgcar.jpg',0)\n",
        "image_rgb = cv2.cvtColor(img, cv2.COLOR_BGR2RGB)\n",
        "\n",
        "edges = cv2.Canny(image= image_rgb, threshold1=100, threshold2=700)\n",
        "\n",
        "fig, axs = plt.subplots(1, 2, figsize=(7, 4))\n",
        "\n",
        "axs[0].imshow(image_rgb)\n",
        "axs[0].set_title('Original Image')\n",
        "\n",
        "axs[1].imshow(edges)\n",
        "axs[1].set_title('Image edges')\n",
        "\n",
        "for ax in axs:\n",
        "    ax.set_xticks([])\n",
        "    ax.set_yticks([])\n",
        "\n",
        "plt.tight_layout()\n",
        "plt.show()\n"
      ],
      "metadata": {
        "id": "i2U1ikl4hbkG"
      },
      "execution_count": null,
      "outputs": []
    },
    {
      "cell_type": "code",
      "source": [
        " #Mean, median, coefficient\n",
        " import cv2\n",
        " import numpy as np\n",
        " import matplotlib.pyplot as plt\n",
        "\n",
        " image_path = input(\"Enter the path to the image file: \")\n",
        "\n",
        " image = cv2.imread(image_path)\n",
        "\n",
        " if image is None:\n",
        "  print(\"Error: Unable to read the image.\")\n",
        "  exit()\n",
        "\n",
        " gray_image = cv2.cvtColor(image, cv2.COLOR_BGR2GRAY)\n",
        "\n",
        " mean_val = np.mean(gray_image)\n",
        " std_dev = np.std(gray_image)\n",
        "\n",
        "correlation = np.corrcoef(gray_image.flatten())\n",
        "\n",
        " coefficient_of_variation = std_dev / mean_val\n",
        "\n",
        " print(\"Mean:\", mean_val)\n",
        " print(\"Standard Deviation:\", std_dev)\n",
        " print(\"Correlation:\", correlation)\n",
        " print(\"Coefficient of Variation:\", coefficient_of_variation)\n",
        "\n",
        " plt.imshow(cv2.cvtColor(image, cv2.COLOR_BGR2RGB))\n",
        " plt.axis('off')\n",
        " plt.title(\"Original Image\")\n",
        " plt.show()\n"
      ],
      "metadata": {
        "id": "chgqdGXZI9e9"
      },
      "execution_count": null,
      "outputs": []
    },
    {
      "cell_type": "code",
      "source": [
        " #Gaussian blur\n",
        " import cv2\n",
        " import matplotlib.pyplot as plt\n",
        " import numpy as np\n",
        "\n",
        " image = cv2.imread('pikachu.png')\n",
        "\n",
        " plt.subplot(1, 2, 1)\n",
        "  plt.title(\"Original\")\n",
        " plt.imshow(image)\n",
        "\n",
        " filtered_image2 = cv2.GaussianBlur(image, (7, 7), 0)\n",
        "\n",
        " cv2.imwrite('Gaussian Blur.jpg', filtered_image2)\n",
        "\n",
        " plt.subplot(1, 2, 2)\n",
        " plt.title(\"Gaussian Blur\")\n",
        " plt.imshow(filtered_image2)\n",
        " plt.show()\n"
      ],
      "metadata": {
        "id": "6oiKq4qLJJQx"
      },
      "execution_count": null,
      "outputs": []
    },
    {
      "cell_type": "code",
      "source": [
        "# Laplcian sharpening\n",
        " import cv2\n",
        " import matplotlib.pyplot as plt\n",
        " import numpy as np\n",
        "\n",
        " image = cv2.imread('pikachu.png')\n",
        "\n",
        " plt.subplot(1, 2, 1)\n",
        " plt.title(\"Original\")\n",
        " plt.imshow(image)\n",
        "\n",
        " sharpened_image2 = cv2.Laplacian(image, cv2.CV_64F)\n",
        "\n",
        " cv2.imwrite('Laplacian sharpened_image.jpg', sharpened_image2)\n",
        "\n",
        " plt.subplot(1, 2, 2)\n",
        "plt.title(\"Laplacian Sharpening\")\n",
        " plt.imshow(sharpened_image2)\n",
        " plt.show()\n"
      ],
      "metadata": {
        "id": "Jk9aKCUyJX5-"
      },
      "execution_count": null,
      "outputs": []
    },
    {
      "cell_type": "code",
      "source": [
        " #Normalisation the image\n",
        " import cv2\n",
        " import numpy as np\n",
        " import matplotlib.pyplot as plt\n",
        "\n",
        " image = cv2.imread('pikachu.png')\n",
        "\n",
        " image_rgb = cv2.cvtColor(image, cv2.COLOR_BGR2RGB)\n",
        "\n",
        " b, g, r = cv2.split(image_rgb)\n",
        "\n",
        " min_value = 0\n",
        " max_value = 1\n",
        " norm_type = cv2.NORM_MINMAX\n",
        "\n",
        " b_normalized = cv2.normalize(b.astype('float'), None, min_value, max_value,\n",
        " norm_type)\n",
        " g_normalized = cv2.normalize(g.astype('float'), None, min_value, max_value,\n",
        " norm_type)\n",
        " r_normalized = cv2.normalize(r.astype('float'), None, min_value, max_value,\n",
        " norm_type)\n",
        "\n",
        " normalized_image = cv2.merge((b_normalized, g_normalized, r_normalized))\n",
        "\n",
        " print(normalized_image[:,:,0])\n",
        "plt.imshow(normalized_image)\n",
        " plt.xticks([])\n",
        " plt.yticks([])\n",
        " plt.title('Normalized Image')\n",
        " plt.show()"
      ],
      "metadata": {
        "id": "IZQz9MbCJgsf"
      },
      "execution_count": null,
      "outputs": []
    }
  ]
}